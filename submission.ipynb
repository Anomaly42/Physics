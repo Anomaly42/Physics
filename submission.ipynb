{
 "cells": [
  {
   "cell_type": "code",
   "execution_count": 2,
   "metadata": {},
   "outputs": [],
   "source": [
    "import meep as mp\n",
    "from meep.materials import Au, SiO2"
   ]
  },
  {
   "cell_type": "markdown",
   "metadata": {},
   "source": [
    "Square lattice holes in Au\n",
    "a = 575nm\n",
    "slab thickness = 1um\n",
    "width of bottom circle (take this as radius) = 150nm\n",
    "h = 325nm\n",
    "boundary conditions in x and y directions\n",
    "PML on top and bottom of simulation cell\n",
    "let's tke the pml to be 0.25a  \n",
    "and another 0.25a between pml and top of gold slab\n",
    "\n",
    "Incident light, try Hy and Ey"
   ]
  },
  {
   "cell_type": "code",
   "execution_count": 3,
   "metadata": {},
   "outputs": [],
   "source": [
    "Drude_Au = mp.Medium(\n",
    "    epsilon=9,\n",
    "    E_susceptibilities=[mp.DrudeSusceptibility(frequency=2155, gamma=18.36)]\n",
    "    )"
   ]
  },
  {
   "cell_type": "code",
   "execution_count": 14,
   "metadata": {},
   "outputs": [],
   "source": [
    "\n",
    "radius = 0.2353\n",
    "height = 0.2646\n",
    "slab_depth = 1\n",
    "dpml = 0.25\n",
    "buffer = 1\n",
    "total = dpml + buffer + slab_depth + dpml\n",
    "pml_layers = [mp.PML(dpml, direction=mp.Z)]\n",
    "\n",
    "cell = mp.Vector3(1, 1, total)\n",
    "blk = mp.Block(\n",
    "    size=mp.Vector3(1, 1, slab_depth),\n",
    "    center=mp.Vector3(0,0,-slab_depth/2.0),\n",
    "    material=Drude_Au\n",
    ")\n",
    "cyl = mp.Cylinder(\n",
    "    radius=radius,\n",
    "    height=height,\n",
    "    center=mp.Vector3(0,0,height/2.0),\n",
    "    material=Drude_Au\n",
    ")\n",
    "geometry= [blk, cyl]\n",
    "resolution=16\n",
    "\n",
    "fcen = 0.25  # pulse center frequency\n",
    "df = 0.8   # pulse freq. width: large df = short impulse\n",
    "scen = mp.Vector3(0,0,height)\n",
    "s = [mp.Source(\n",
    "    src=mp.GaussianSource(fcen, fwidth=df),\n",
    "    component=mp.Hz,\n",
    "    center=scen)]\n",
    "    \n",
    "sim = mp.Simulation(cell_size=cell,\n",
    "                geometry=geometry,\n",
    "                boundary_layers=pml_layers,\n",
    "                sources=s,\n",
    "                resolution=resolution,\n",
    "                )"
   ]
  },
  {
   "cell_type": "code",
   "execution_count": 5,
   "metadata": {},
   "outputs": [
    {
     "name": "stdout",
     "output_type": "stream",
     "text": [
      "-----------\n",
      "Initializing structure...\n",
      "time for choose_chunkdivision = 9.29832e-05 s\n",
      "Working in 3D dimensions.\n",
      "Computational cell is 1 x 1 x 2.5 with resolution 32\n",
      "     block, center = (0,0,-0.5)\n",
      "          size (1,1,1)\n",
      "          axes (1,0,0), (0,1,0), (0,0,1)\n",
      "          dielectric constant epsilon diagonal = (9,9,9)\n",
      "     cylinder, center = (0,0,0.1323)\n",
      "          radius 0.2353, height 0.2646, axis (0, 0, 1)\n",
      "          dielectric constant epsilon diagonal = (9,9,9)\n",
      "time for set_epsilon = 0.84391 s\n",
      "drude susceptibility: frequency=2155, gamma=18.36\n",
      "-----------\n",
      "Meep: using complex fields.\n",
      "Meep progress: 7.71875/320.0 = 2.4% done in 4.0s, 161.9s to go\n",
      "on time step 494 (time=7.71875), 0.0081027 s/step\n",
      "Meep progress: 17.75/320.0 = 5.5% done in 8.0s, 136.4s to go\n",
      "on time step 1136 (time=17.75), 0.00623897 s/step\n",
      "Meep progress: 28.015625/320.0 = 8.8% done in 12.0s, 125.2s to go\n",
      "on time step 1793 (time=28.0156), 0.00609515 s/step\n",
      "Meep progress: 38.265625/320.0 = 12.0% done in 16.0s, 117.9s to go\n",
      "on time step 2449 (time=38.2656), 0.00609843 s/step\n",
      "Meep progress: 45.671875/320.0 = 14.3% done in 20.0s, 120.2s to go\n",
      "on time step 2924 (time=45.6875), 0.00843521 s/step\n",
      "Meep progress: 55.421875/320.0 = 17.3% done in 24.0s, 114.7s to go\n",
      "on time step 3549 (time=55.4531), 0.00640623 s/step\n",
      "Meep progress: 65.5625/320.0 = 20.5% done in 28.0s, 108.7s to go\n",
      "on time step 4198 (time=65.5938), 0.00616459 s/step\n",
      "Meep progress: 76.0/320.0 = 23.8% done in 32.0s, 102.8s to go\n",
      "on time step 4866 (time=76.0312), 0.00599964 s/step\n",
      "Meep progress: 84.1875/320.0 = 26.3% done in 36.0s, 100.9s to go\n",
      "on time step 5391 (time=84.2344), 0.00762537 s/step\n",
      "Meep progress: 92.03125/320.0 = 28.8% done in 40.0s, 99.2s to go\n",
      "on time step 5892 (time=92.0625), 0.00799308 s/step\n",
      "Meep progress: 100.40625/320.0 = 31.4% done in 44.0s, 96.3s to go\n",
      "on time step 6429 (time=100.453), 0.00745446 s/step\n",
      "Meep progress: 108.453125/320.0 = 33.9% done in 48.0s, 93.7s to go\n",
      "on time step 6944 (time=108.5), 0.00777177 s/step\n",
      "Meep progress: 115.9375/320.0 = 36.2% done in 52.0s, 91.6s to go\n",
      "on time step 7424 (time=116), 0.00833492 s/step\n",
      "Meep progress: 125.546875/320.0 = 39.2% done in 56.0s, 86.8s to go\n",
      "on time step 8038 (time=125.594), 0.0065192 s/step\n",
      "Meep progress: 134.6875/320.0 = 42.1% done in 60.0s, 82.6s to go\n",
      "on time step 8624 (time=134.75), 0.00683322 s/step\n",
      "Meep progress: 144.1875/320.0 = 45.1% done in 64.0s, 78.1s to go\n",
      "on time step 9233 (time=144.266), 0.0065774 s/step\n",
      "Meep progress: 154.03125/320.0 = 48.1% done in 68.0s, 73.3s to go\n",
      "on time step 9864 (time=154.125), 0.00634758 s/step\n",
      "Meep progress: 163.0625/320.0 = 51.0% done in 72.0s, 69.3s to go\n",
      "on time step 10441 (time=163.141), 0.00693459 s/step\n",
      "Meep progress: 172.3125/320.0 = 53.8% done in 76.1s, 65.2s to go\n",
      "on time step 11032 (time=172.375), 0.00677578 s/step\n",
      "Meep progress: 180.921875/320.0 = 56.5% done in 80.1s, 61.5s to go\n",
      "on time step 11584 (time=181), 0.00724723 s/step\n",
      "Meep progress: 189.546875/320.0 = 59.2% done in 84.1s, 57.8s to go\n",
      "on time step 12137 (time=189.641), 0.0072387 s/step\n",
      "Meep progress: 197.890625/320.0 = 61.8% done in 88.1s, 54.3s to go\n",
      "on time step 12671 (time=197.984), 0.00749463 s/step\n",
      "Meep progress: 202.96875/320.0 = 63.4% done in 92.1s, 53.1s to go\n",
      "on time step 12993 (time=203.016), 0.0125636 s/step\n",
      "Meep progress: 209.546875/320.0 = 65.5% done in 96.1s, 50.6s to go\n",
      "on time step 13431 (time=209.859), 0.00914305 s/step\n",
      "Meep progress: 215.0625/320.0 = 67.2% done in 100.1s, 48.8s to go\n",
      "on time step 13780 (time=215.312), 0.0114731 s/step\n",
      "Meep progress: 221.21875/320.0 = 69.1% done in 104.1s, 46.5s to go\n",
      "on time step 14178 (time=221.531), 0.0100545 s/step\n",
      "Meep progress: 229.625/320.0 = 71.8% done in 108.1s, 42.5s to go\n",
      "on time step 14713 (time=229.891), 0.00748188 s/step\n",
      "Meep progress: 237.59375/320.0 = 74.2% done in 112.1s, 38.9s to go\n",
      "on time step 15231 (time=237.984), 0.00773208 s/step\n",
      "Meep progress: 243.46875/320.0 = 76.1% done in 116.1s, 36.5s to go\n",
      "on time step 15592 (time=243.625), 0.0111397 s/step\n",
      "Meep progress: 252.5625/320.0 = 78.9% done in 120.1s, 32.1s to go\n",
      "on time step 16183 (time=252.859), 0.00677685 s/step\n",
      "Meep progress: 261.796875/320.0 = 81.8% done in 124.1s, 27.6s to go\n",
      "on time step 16782 (time=262.219), 0.00667884 s/step\n",
      "Meep progress: 269.84375/320.0 = 84.3% done in 128.1s, 23.8s to go\n",
      "on time step 17297 (time=270.266), 0.0077798 s/step\n",
      "Meep progress: 278.578125/320.0 = 87.1% done in 132.1s, 19.6s to go\n",
      "on time step 17856 (time=279), 0.00716372 s/step\n",
      "Meep progress: 287.765625/320.0 = 89.9% done in 136.1s, 15.2s to go\n",
      "on time step 18443 (time=288.172), 0.00681762 s/step\n",
      "Meep progress: 296.1875/320.0 = 92.6% done in 140.1s, 11.3s to go\n",
      "on time step 18983 (time=296.609), 0.00740981 s/step\n",
      "Meep progress: 305.53125/320.0 = 95.5% done in 144.1s, 6.8s to go\n",
      "on time step 19582 (time=305.969), 0.00668822 s/step\n",
      "Meep progress: 314.828125/320.0 = 98.4% done in 148.1s, 2.4s to go\n",
      "on time step 20177 (time=315.266), 0.00673056 s/step\n",
      "harminv0:, frequency, imag. freq., Q, |amp|, amplitude, error\n",
      "run 0 finished at t = 320.0 (20480 timesteps)\n"
     ]
    }
   ],
   "source": [
    "kx, ky, kz = 0.5,0,0\n",
    "sim.k_point = mp.Vector3(kx, ky, kz)\n",
    "\n",
    "sim.run(mp.after_sources(mp.Harminv(mp.Hz, scen, fcen, df)), until_after_sources=300)"
   ]
  },
  {
   "cell_type": "code",
   "execution_count": 18,
   "metadata": {},
   "outputs": [
    {
     "name": "stdout",
     "output_type": "stream",
     "text": [
      "Meep progress: 111.84375/312.5 = 35.8% done in 4.0s, 7.2s to go\n",
      "on time step 3579 (time=111.844), 0.00111776 s/step\n",
      "Meep progress: 245.0/312.5 = 78.4% done in 8.0s, 2.2s to go\n",
      "on time step 7841 (time=245.031), 0.000938566 s/step\n",
      "harminv34:, frequency, imag. freq., Q, |amp|, amplitude, error\n",
      "harminv34:, 0.35326804512607257, 0.0025392125215631667, -69.56252029440154, 0.14409743438005745, -0.05622465229495159+0.1326757666992234i, 1.924137425739376e-08+0.0i\n",
      "harminv34:, 0.4122423101714017, 0.003648428089809015, -56.495879872608576, 0.3753981507572154, 0.32598141526089847-0.1861716640534716i, 3.697559254348444e-10+0.0i\n",
      "harminv34:, 0.4867211801148968, 0.0009447750904032593, -257.58573921924057, 0.05429415321910677, -0.053943069803707236+0.006164437843973407i, 2.150851875960547e-07+0.0i\n",
      "harminv34:, 0.5031270161379054, -0.0019394938872643582, 129.70574938175298, 0.33299867612935713, -0.18018657372820224+0.28003734920898604i, 2.8646202453587187e-07+0.0i\n",
      "harminv34:, 0.5383052797775683, 0.0022259677217854354, -120.91488895126405, 0.05005367492294446, 0.02583636016247329+0.04287018622360723i, 9.03535815081163e-09+0.0i\n",
      "harminv34:, 0.6049940501809161, -0.0018645336316165304, 162.237365934878, 0.23071466362140663, -0.015859378638064518-0.23016892952601858i, 1.2993750087151966e-07+0.0i\n",
      "run 34 finished at t = 312.5 (10000 timesteps)\n",
      "freqs:, 1, 0.0, 0.0, 0.0, 0.35326804512607257, 0.4122423101714017, 0.4867211801148968, 0.5031270161379054, 0.5383052797775683, 0.6049940501809161\n",
      "freqs-im:, 1, 0.0, 0.0, 0.0, 0.0025392125215631667, 0.003648428089809015, 0.0009447750904032593, -0.0019394938872643582, 0.0022259677217854354, -0.0018645336316165304\n",
      "Meep progress: 164.15625/312.5 = 52.5% done in 4.0s, 3.6s to go\n",
      "on time step 5253 (time=164.156), 0.000761578 s/step\n",
      "harminv35:, frequency, imag. freq., Q, |amp|, amplitude, error\n",
      "harminv35:, 0.021430806041406063, 0.00018544353715452584, -57.78256382035106, 0.0032856674235258276, 0.001863176598472822+0.002706322852307554i, 0.00030197672975657117+0.0i\n",
      "harminv35:, 0.3387700176384141, 0.0028587370939109117, -59.25169165782884, 0.042618847169515243, -0.03524197763431259+0.023965999801408427i, 5.2190042078787206e-08+0.0i\n",
      "harminv35:, 0.3537478981759646, 0.0025558042032347373, -69.20481188039479, 0.07195203457979646, -0.02688203187859133+0.06674167844945635i, 2.9901638094557314e-08+0.0i\n",
      "harminv35:, 0.3677583784124396, 0.0022883585697748457, -80.35418558740638, 0.03069165129037805, 0.005701200771856924+0.030157482797626572i, 1.8533275565720494e-07+0.0i\n",
      "harminv35:, 0.398531953541559, 0.003644174668279579, -54.680687647953306, 0.1121203470104979, 0.11212025317723441+0.000145055945500326i, 7.252530639915752e-09+0.0i\n",
      "harminv35:, 0.4131717079908328, 0.003644700317796952, -56.68116332820684, 0.189709194824866, 0.16157617316726836-0.09941186481361201i, 4.617302550751443e-10+0.0i\n",
      "harminv35:, 0.4258452188522048, 0.0036002496514499936, -59.14106799242331, 0.07456239982399192, 0.038235471435282845-0.06401250027638741i, 1.2059255749151027e-08+0.0i\n",
      "harminv35:, 0.4767495056281678, 0.0011376794750575002, -209.52716300171983, 0.024021612857068633, -0.02339937492911076-0.005432047236704389i, 4.535974926138916e-07+0.0i\n",
      "harminv35:, 0.49745009016584457, 0.0004929683249266166, -504.54569291028497, 0.04082612370166535, -0.0405086606791136-0.005081415795633816i, 6.44769367910141e-07+0.0i\n",
      "harminv35:, 0.5058040643229139, -0.002282901815044459, 110.78095014635211, 0.18400772458074294, -0.11697156054822425+0.1420439957488371i, 2.0389038611706623e-06+0.0i\n",
      "harminv35:, 0.5170594525734994, -0.0019435357572356227, 133.02030864328836, 0.05656427615360886, -0.039737596984671684+0.040254698144012155i, 5.18914165899871e-06+0.0i\n",
      "harminv35:, 0.5293172684926052, 0.0023569517383446163, -112.2885250218077, 0.025721016168500976, 0.0016486140861056544+0.025668127012608122i, 9.324347483805807e-08+0.0i\n",
      "harminv35:, 0.5487568909543548, 0.0019546301127407943, -140.3735897082043, 0.02404204687965687, 0.02057214154523083+0.012442146535329272i, 2.8517030927071963e-07+0.0i\n",
      "harminv35:, 0.6017397847565684, -0.001563879859957875, 192.38683231484833, 0.19565348805461685, 0.017029977186911308-0.19491092135883864i, 9.512861765131448e-07+0.0i\n",
      "harminv35:, 0.6175481951244457, -0.001948537912886202, 158.46450588424133, 0.07293311611369376, -0.06194513117593144-0.03849727457431478i, 2.604414050603004e-06+0.0i\n",
      "harminv35:, 0.6306919399881384, -0.001550523181263687, 203.38036464379726, 0.009586833523998662, -0.002377780662350813+0.009287278187855423i, 4.381621825808054e-06+0.0i\n",
      "run 35 finished at t = 312.5 (10000 timesteps)\n",
      "freqs:, 2, 0.0, 0.045454545454545456, 0.0, 0.021430806041406063, 0.3387700176384141, 0.3537478981759646, 0.3677583784124396, 0.398531953541559, 0.4131717079908328, 0.4258452188522048, 0.4767495056281678, 0.49745009016584457, 0.5058040643229139, 0.5170594525734994, 0.5293172684926052, 0.5487568909543548, 0.6017397847565684, 0.6175481951244457, 0.6306919399881384\n",
      "freqs-im:, 2, 0.0, 0.045454545454545456, 0.0, 0.00018544353715452584, 0.0028587370939109117, 0.0025558042032347373, 0.0022883585697748457, 0.003644174668279579, 0.003644700317796952, 0.0036002496514499936, 0.0011376794750575002, 0.0004929683249266166, -0.002282901815044459, -0.0019435357572356227, 0.0023569517383446163, 0.0019546301127407943, -0.001563879859957875, -0.001948537912886202, -0.001550523181263687\n",
      "Meep progress: 130.8125/312.5 = 41.9% done in 4.0s, 5.6s to go\n",
      "on time step 4186 (time=130.812), 0.00095574 s/step\n",
      "Meep progress: 271.84375/312.5 = 87.0% done in 8.0s, 1.2s to go\n",
      "on time step 8702 (time=271.938), 0.000885768 s/step\n",
      "harminv36:, frequency, imag. freq., Q, |amp|, amplitude, error\n",
      "harminv36:, 0.3242548479845499, 0.003156543256730943, -51.362332401609905, 0.049264362678986914, -0.04921765574316535+0.002144712874494344i, 2.21968311340141e-08+0.0i\n",
      "harminv36:, 0.35475456422770957, 0.0025371873159272555, -69.91099198721535, 0.0711387159892674, -0.023942900988549686+0.06698846471486083i, 6.471418738577255e-08+0.0i\n",
      "harminv36:, 0.38214678879215835, 0.0020685134617100883, -92.37232337763679, 0.02562379355710742, 0.01988607713866912+0.016159292444044734i, 2.1918102257644507e-06+0.0i\n",
      "harminv36:, 0.3849102868508496, 0.003515535711055524, -54.74418673097222, 0.12945029884842554, 0.11088885616051282+0.06679102822505266i, 4.902668026791305e-08+0.0i\n",
      "harminv36:, 0.4141157220029817, 0.003643983467702632, -56.82184423631085, 0.18657927147392833, 0.15562064851316537-0.10292734476359372i, 4.196071050582676e-09+0.0i\n",
      "harminv36:, 0.43940587159187616, 0.0033979334845112333, -64.65780945901614, 0.06306550858176647, 0.0009851134834940717-0.06305781413989466i, 1.0470174689441934e-08+0.0i\n",
      "harminv36:, 0.4668976167350603, 0.0011377049112293563, -205.19275786132903, 0.0266411568860523, -0.021122492662235662-0.016235502578024877i, 3.980072733112587e-07+0.0i\n",
      "harminv36:, 0.48088273953705546, -0.0045249468465782825, 53.136838491339844, 0.053013535065516815, -0.030030744170940597+0.043687404416860226i, 6.5887368240819384e-06+0.0i\n",
      "harminv36:, 0.5062556981002103, -0.0009448406341066889, 267.90533759106154, 0.1426315697601695, -0.10843811685272364+0.09265494863030871i, 4.789426909432636e-07+0.0i\n",
      "harminv36:, 0.520061512519866, 0.0024209939460982195, -107.40661151962401, 0.029187585925929772, -0.012775816200425978+0.026242974156837996i, 6.936509622513214e-08+0.0i\n",
      "harminv36:, 0.5278066336231105, -0.0008474094298600134, 311.4236253603531, 0.040075947323978484, 0.015532652789159999+0.03694344666169764i, 1.1078877001900283e-06+0.0i\n",
      "harminv36:, 0.5586725122346482, 0.001906303879077427, -146.53291071962326, 0.02623545830099322, 0.026138094286029867+0.002258162828001304i, 4.296644931040118e-08+0.0i\n",
      "harminv36:, 0.5953811388255978, -0.0008949980179660292, 332.6158979539753, 0.15263380735112245, 0.06100794345358501-0.1399110788396106i, 2.708052394659179e-07+0.0i\n",
      "run 36 finished at t = 312.5 (10000 timesteps)\n",
      "freqs:, 3, 0.0, 0.09090909090909091, 0.0, 0.3242548479845499, 0.35475456422770957, 0.38214678879215835, 0.3849102868508496, 0.4141157220029817, 0.43940587159187616, 0.4668976167350603, 0.48088273953705546, 0.5062556981002103, 0.520061512519866, 0.5278066336231105, 0.5586725122346482, 0.5953811388255978\n",
      "freqs-im:, 3, 0.0, 0.09090909090909091, 0.0, 0.003156543256730943, 0.0025371873159272555, 0.0020685134617100883, 0.003515535711055524, 0.003643983467702632, 0.0033979334845112333, 0.0011377049112293563, -0.0045249468465782825, -0.0009448406341066889, 0.0024209939460982195, -0.0008474094298600134, 0.001906303879077427, -0.0008949980179660292\n",
      "Meep progress: 106.0/312.5 = 33.9% done in 4.0s, 7.8s to go\n",
      "on time step 3392 (time=106), 0.00118064 s/step\n"
     ]
    },
    {
     "ename": "KeyboardInterrupt",
     "evalue": "",
     "output_type": "error",
     "traceback": [
      "\u001b[0;31m---------------------------------------------------------------------------\u001b[0m",
      "\u001b[0;31mKeyboardInterrupt\u001b[0m                         Traceback (most recent call last)",
      "\u001b[0;32m/var/folders/5g/x5xp4chn7ds4j3y631l4mczm0000gn/T/ipykernel_7660/3491375674.py\u001b[0m in \u001b[0;36m<module>\u001b[0;34m\u001b[0m\n\u001b[1;32m      7\u001b[0m ]\n\u001b[1;32m      8\u001b[0m \u001b[0mk_points\u001b[0m \u001b[0;34m=\u001b[0m \u001b[0mmp\u001b[0m\u001b[0;34m.\u001b[0m\u001b[0minterpolate\u001b[0m\u001b[0;34m(\u001b[0m\u001b[0;36m10\u001b[0m\u001b[0;34m,\u001b[0m \u001b[0mk_points\u001b[0m\u001b[0;34m)\u001b[0m\u001b[0;34m\u001b[0m\u001b[0;34m\u001b[0m\u001b[0m\n\u001b[0;32m----> 9\u001b[0;31m \u001b[0mall_freqs\u001b[0m \u001b[0;34m=\u001b[0m \u001b[0msim\u001b[0m\u001b[0;34m.\u001b[0m\u001b[0mrun_k_points\u001b[0m\u001b[0;34m(\u001b[0m\u001b[0;36m300\u001b[0m\u001b[0;34m,\u001b[0m \u001b[0mk_points\u001b[0m\u001b[0;34m)\u001b[0m\u001b[0;34m\u001b[0m\u001b[0;34m\u001b[0m\u001b[0m\n\u001b[0m",
      "\u001b[0;32m~/miniconda3/envs/mp/lib/python3.9/site-packages/meep/simulation.py\u001b[0m in \u001b[0;36mrun_k_points\u001b[0;34m(self, t, k_points)\u001b[0m\n\u001b[1;32m   2424\u001b[0m         \u001b[0;32mfor\u001b[0m \u001b[0mk\u001b[0m \u001b[0;32min\u001b[0m \u001b[0mk_points\u001b[0m\u001b[0;34m:\u001b[0m\u001b[0;34m\u001b[0m\u001b[0;34m\u001b[0m\u001b[0m\n\u001b[1;32m   2425\u001b[0m             \u001b[0mk_index\u001b[0m \u001b[0;34m+=\u001b[0m \u001b[0;36m1\u001b[0m\u001b[0;34m\u001b[0m\u001b[0;34m\u001b[0m\u001b[0m\n\u001b[0;32m-> 2426\u001b[0;31m             \u001b[0mharminv\u001b[0m \u001b[0;34m=\u001b[0m \u001b[0mself\u001b[0m\u001b[0;34m.\u001b[0m\u001b[0mrun_k_point\u001b[0m\u001b[0;34m(\u001b[0m\u001b[0mt\u001b[0m\u001b[0;34m,\u001b[0m \u001b[0mk\u001b[0m\u001b[0;34m)\u001b[0m\u001b[0;34m\u001b[0m\u001b[0;34m\u001b[0m\u001b[0m\n\u001b[0m\u001b[1;32m   2427\u001b[0m             \u001b[0mfreqs\u001b[0m \u001b[0;34m=\u001b[0m \u001b[0;34m[\u001b[0m\u001b[0mcomplex\u001b[0m\u001b[0;34m(\u001b[0m\u001b[0mm\u001b[0m\u001b[0;34m.\u001b[0m\u001b[0mfreq\u001b[0m\u001b[0;34m,\u001b[0m \u001b[0mm\u001b[0m\u001b[0;34m.\u001b[0m\u001b[0mdecay\u001b[0m\u001b[0;34m)\u001b[0m \u001b[0;32mfor\u001b[0m \u001b[0mm\u001b[0m \u001b[0;32min\u001b[0m \u001b[0mharminv\u001b[0m\u001b[0;34m.\u001b[0m\u001b[0mmodes\u001b[0m\u001b[0;34m]\u001b[0m\u001b[0;34m\u001b[0m\u001b[0;34m\u001b[0m\u001b[0m\n\u001b[1;32m   2428\u001b[0m \u001b[0;34m\u001b[0m\u001b[0m\n",
      "\u001b[0;32m~/miniconda3/envs/mp/lib/python3.9/site-packages/meep/simulation.py\u001b[0m in \u001b[0;36mrun_k_point\u001b[0;34m(self, t, k)\u001b[0m\n\u001b[1;32m   2400\u001b[0m \u001b[0;34m\u001b[0m\u001b[0m\n\u001b[1;32m   2401\u001b[0m         \u001b[0mh\u001b[0m \u001b[0;34m=\u001b[0m \u001b[0mHarminv\u001b[0m\u001b[0;34m(\u001b[0m\u001b[0mcomponents\u001b[0m\u001b[0;34m[\u001b[0m\u001b[0;36m0\u001b[0m\u001b[0;34m]\u001b[0m\u001b[0;34m,\u001b[0m \u001b[0mpts\u001b[0m\u001b[0;34m[\u001b[0m\u001b[0;36m0\u001b[0m\u001b[0;34m]\u001b[0m\u001b[0;34m,\u001b[0m \u001b[0;36m0.5\u001b[0m \u001b[0;34m*\u001b[0m \u001b[0;34m(\u001b[0m\u001b[0mfmin\u001b[0m \u001b[0;34m+\u001b[0m \u001b[0mfmax\u001b[0m\u001b[0;34m)\u001b[0m\u001b[0;34m,\u001b[0m \u001b[0mfmax\u001b[0m \u001b[0;34m-\u001b[0m \u001b[0mfmin\u001b[0m\u001b[0;34m)\u001b[0m\u001b[0;34m\u001b[0m\u001b[0;34m\u001b[0m\u001b[0m\n\u001b[0;32m-> 2402\u001b[0;31m         \u001b[0mself\u001b[0m\u001b[0;34m.\u001b[0m\u001b[0mrun\u001b[0m\u001b[0;34m(\u001b[0m\u001b[0mafter_sources\u001b[0m\u001b[0;34m(\u001b[0m\u001b[0mh\u001b[0m\u001b[0;34m)\u001b[0m\u001b[0;34m,\u001b[0m \u001b[0muntil_after_sources\u001b[0m\u001b[0;34m=\u001b[0m\u001b[0mt\u001b[0m\u001b[0;34m)\u001b[0m\u001b[0;34m\u001b[0m\u001b[0;34m\u001b[0m\u001b[0m\n\u001b[0m\u001b[1;32m   2403\u001b[0m \u001b[0;34m\u001b[0m\u001b[0m\n\u001b[1;32m   2404\u001b[0m         \u001b[0;32mreturn\u001b[0m \u001b[0mh\u001b[0m\u001b[0;34m\u001b[0m\u001b[0;34m\u001b[0m\u001b[0m\n",
      "\u001b[0;32m~/miniconda3/envs/mp/lib/python3.9/site-packages/meep/simulation.py\u001b[0m in \u001b[0;36mrun\u001b[0;34m(self, *step_funcs, **kwargs)\u001b[0m\n\u001b[1;32m   3841\u001b[0m \u001b[0;34m\u001b[0m\u001b[0m\n\u001b[1;32m   3842\u001b[0m         \u001b[0;32mif\u001b[0m \u001b[0muntil_after_sources\u001b[0m \u001b[0;32mis\u001b[0m \u001b[0;32mnot\u001b[0m \u001b[0;32mNone\u001b[0m\u001b[0;34m:\u001b[0m\u001b[0;34m\u001b[0m\u001b[0;34m\u001b[0m\u001b[0m\n\u001b[0;32m-> 3843\u001b[0;31m             \u001b[0mself\u001b[0m\u001b[0;34m.\u001b[0m\u001b[0m_run_sources_until\u001b[0m\u001b[0;34m(\u001b[0m\u001b[0muntil_after_sources\u001b[0m\u001b[0;34m,\u001b[0m \u001b[0mstep_funcs\u001b[0m\u001b[0;34m)\u001b[0m\u001b[0;34m\u001b[0m\u001b[0;34m\u001b[0m\u001b[0m\n\u001b[0m\u001b[1;32m   3844\u001b[0m         \u001b[0;32melif\u001b[0m \u001b[0muntil\u001b[0m \u001b[0;32mis\u001b[0m \u001b[0;32mnot\u001b[0m \u001b[0;32mNone\u001b[0m\u001b[0;34m:\u001b[0m\u001b[0;34m\u001b[0m\u001b[0;34m\u001b[0m\u001b[0m\n\u001b[1;32m   3845\u001b[0m             \u001b[0mself\u001b[0m\u001b[0;34m.\u001b[0m\u001b[0m_run_until\u001b[0m\u001b[0;34m(\u001b[0m\u001b[0muntil\u001b[0m\u001b[0;34m,\u001b[0m \u001b[0mstep_funcs\u001b[0m\u001b[0;34m)\u001b[0m\u001b[0;34m\u001b[0m\u001b[0;34m\u001b[0m\u001b[0m\n",
      "\u001b[0;32m~/miniconda3/envs/mp/lib/python3.9/site-packages/meep/simulation.py\u001b[0m in \u001b[0;36m_run_sources_until\u001b[0;34m(self, cond, step_funcs)\u001b[0m\n\u001b[1;32m   2367\u001b[0m                 \u001b[0mnew_conds\u001b[0m\u001b[0;34m.\u001b[0m\u001b[0mappend\u001b[0m\u001b[0;34m(\u001b[0m\u001b[0mf\u001b[0m\u001b[0;34m)\u001b[0m\u001b[0;34m\u001b[0m\u001b[0;34m\u001b[0m\u001b[0m\n\u001b[1;32m   2368\u001b[0m \u001b[0;34m\u001b[0m\u001b[0m\n\u001b[0;32m-> 2369\u001b[0;31m         \u001b[0mself\u001b[0m\u001b[0;34m.\u001b[0m\u001b[0m_run_until\u001b[0m\u001b[0;34m(\u001b[0m\u001b[0mnew_conds\u001b[0m\u001b[0;34m,\u001b[0m \u001b[0mstep_funcs\u001b[0m\u001b[0;34m)\u001b[0m\u001b[0;34m\u001b[0m\u001b[0;34m\u001b[0m\u001b[0m\n\u001b[0m\u001b[1;32m   2370\u001b[0m \u001b[0;34m\u001b[0m\u001b[0m\n\u001b[1;32m   2371\u001b[0m     \u001b[0;32mdef\u001b[0m \u001b[0m_run_sources\u001b[0m\u001b[0;34m(\u001b[0m\u001b[0mself\u001b[0m\u001b[0;34m,\u001b[0m \u001b[0mstep_funcs\u001b[0m\u001b[0;34m)\u001b[0m\u001b[0;34m:\u001b[0m\u001b[0;34m\u001b[0m\u001b[0;34m\u001b[0m\u001b[0m\n",
      "\u001b[0;32m~/miniconda3/envs/mp/lib/python3.9/site-packages/meep/simulation.py\u001b[0m in \u001b[0;36m_run_until\u001b[0;34m(self, cond, step_funcs)\u001b[0m\n\u001b[1;32m   2331\u001b[0m             \u001b[0;32mfor\u001b[0m \u001b[0mfunc\u001b[0m \u001b[0;32min\u001b[0m \u001b[0mstep_funcs\u001b[0m\u001b[0;34m:\u001b[0m\u001b[0;34m\u001b[0m\u001b[0;34m\u001b[0m\u001b[0m\n\u001b[1;32m   2332\u001b[0m                 \u001b[0m_eval_step_func\u001b[0m\u001b[0;34m(\u001b[0m\u001b[0mself\u001b[0m\u001b[0;34m,\u001b[0m \u001b[0mfunc\u001b[0m\u001b[0;34m,\u001b[0m \u001b[0;34m'step'\u001b[0m\u001b[0;34m)\u001b[0m\u001b[0;34m\u001b[0m\u001b[0;34m\u001b[0m\u001b[0m\n\u001b[0;32m-> 2333\u001b[0;31m             \u001b[0mself\u001b[0m\u001b[0;34m.\u001b[0m\u001b[0mfields\u001b[0m\u001b[0;34m.\u001b[0m\u001b[0mstep\u001b[0m\u001b[0;34m(\u001b[0m\u001b[0;34m)\u001b[0m\u001b[0;34m\u001b[0m\u001b[0;34m\u001b[0m\u001b[0m\n\u001b[0m\u001b[1;32m   2334\u001b[0m \u001b[0;34m\u001b[0m\u001b[0m\n\u001b[1;32m   2335\u001b[0m         \u001b[0;31m# Translating the recursive scheme version of run-until into an iterative version\u001b[0m\u001b[0;34m\u001b[0m\u001b[0;34m\u001b[0m\u001b[0m\n",
      "\u001b[0;31mKeyboardInterrupt\u001b[0m: "
     ]
    }
   ],
   "source": [
    "# sim.restart_fields()\n",
    "k_points = [\n",
    "    mp.Vector3(0,0,0), #Gamma\n",
    "    mp.Vector3(0,0.5,0), # X\n",
    "    mp.Vector3(0.5,0.5,0), # M \n",
    "    mp.Vector3(0,0,0) # Gamma\n",
    "]\n",
    "k_points = mp.interpolate(10, k_points)\n",
    "all_freqs = sim.run_k_points(300, k_points)\n"
   ]
  },
  {
   "cell_type": "code",
   "execution_count": 8,
   "metadata": {},
   "outputs": [],
   "source": [
    "from matplotlib import pyplot as plt\n",
    "import numpy as np"
   ]
  },
  {
   "cell_type": "code",
   "execution_count": 25,
   "metadata": {},
   "outputs": [
    {
     "name": "stderr",
     "output_type": "stream",
     "text": [
      "/Users/kaustav/miniconda3/envs/mp/lib/python3.9/site-packages/matplotlib/collections.py:200: ComplexWarning: Casting complex values to real discards the imaginary part\n",
      "  offsets = np.asanyarray(offsets, float)\n"
     ]
    },
    {
     "data": {
      "image/png": "[encoded data removed]",
      "text/plain": [
       "<Figure size 432x288 with 1 Axes>"
      ]
     },
     "metadata": {
      "needs_background": "light"
     },
     "output_type": "display_data"
    }
   ],
   "source": [
    "fig, ax = plt.subplots()\n",
    "freqs = all_freqs\n",
    "x = range(len(freqs))\n",
    "# Plot bands\n",
    "# Scatter plot for multiple y values, see https://stackoverflow.com/a/34280815/2261298\n",
    "for xz, z in zip(x, freqs):\n",
    "    for freq in z:\n",
    "        ax.scatter([xz], freq , color='black')\n",
    "\n",
    "ax.set_ylim([0, 1])\n",
    "ax.set_xlim([x[0], x[-1]])\n",
    "\n",
    "line = np.arange(0,10,0.01)\n",
    "ax.fill_between(line,line/10.0 , 1.0, interpolate=True, color='gray', alpha = 0.5)\n",
    "\n",
    "points_in_between = (len(freqs) - 4) / 3\n",
    "tick_locs = [i*points_in_between+i for i in range(4)]\n",
    "tick_labs = ['Γ', 'X', 'M', 'Γ']\n",
    "ax.set_xticks(tick_locs)\n",
    "ax.set_xticklabels(tick_labs, size=16)\n",
    "ax.set_ylabel('frequency (c/a)', size=16)\n",
    "ax.grid(True)\n",
    "\n",
    "plt.show()"
   ]
  },
  {
   "cell_type": "code",
   "execution_count": 23,
   "metadata": {},
   "outputs": [
    {
     "name": "stdout",
     "output_type": "stream",
     "text": [
      "range(0, 34)\n"
     ]
    }
   ],
   "source": [
    "print(x)"
   ]
  },
  {
   "cell_type": "code",
   "execution_count": 10,
   "metadata": {},
   "outputs": [
    {
     "data": {
      "image/png": "[encoded data removed]",
      "text/plain": [
       "<Figure size 500x500 with 1 Axes>"
      ]
     },
     "metadata": {
      "needs_background": "light"
     },
     "output_type": "display_data"
    }
   ],
   "source": [
    "kx = [k.x for k in k_points]\n",
    "fig = plt.figure(dpi=100,figsize=(5,5))\n",
    "ax = plt.subplot(111)\n",
    "for i in range(len(all_freqs)):\n",
    "    for ii in range(len(all_freqs[i])):\n",
    "        plt.scatter(kx[i],np.real(all_freqs[i][ii]),color='b')\n",
    "\n",
    "ax.fill_between(kx, kx, 2.0, interpolate=True, color='gray', alpha = 0.5)\n",
    "plt.xlim(0,0.5)\n",
    "plt.ylim(0,1)\n",
    "plt.grid(True)\n",
    "plt.xlabel('$k_x(2\\pi)$')\n",
    "plt.ylabel('$\\omega(2\\pi c)$')\n",
    "plt.tight_layout()\n",
    "plt.show()"
   ]
  },
  {
   "cell_type": "code",
   "execution_count": null,
   "metadata": {},
   "outputs": [],
   "source": []
  }
 ],
 "metadata": {
  "interpreter": {
   "hash": "2adf428c9d9f39bb8dc67782b12a2af9a50d30d6248e445773526b5a7c6a5792"
  },
  "kernelspec": {
   "display_name": "Python 3.9.9 64-bit ('mp': conda)",
   "language": "python",
   "name": "python3"
  },
  "language_info": {
   "codemirror_mode": {
    "name": "ipython",
    "version": 3
   },
   "file_extension": ".py",
   "mimetype": "text/x-python",
   "name": "python",
   "nbconvert_exporter": "python",
   "pygments_lexer": "ipython3",
   "version": "3.9.9"
  },
  "orig_nbformat": 4
 },
 "nbformat": 4,
 "nbformat_minor": 2
}
